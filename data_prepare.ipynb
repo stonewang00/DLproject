{
 "cells": [
  {
   "cell_type": "code",
   "execution_count": 1,
   "id": "de85dd11-896d-4974-9471-1699ea904403",
   "metadata": {
    "tags": []
   },
   "outputs": [],
   "source": [
    "import torch\n",
    "import skimage.io as io\n",
    "import clip\n",
    "from PIL import Image\n",
    "import pickle\n",
    "import json\n",
    "import os\n",
    "from tqdm import tqdm\n",
    "import argparse"
   ]
  },
  {
   "cell_type": "code",
   "execution_count": 2,
   "id": "13a7bf79-cc82-4ca8-9740-76de1bdcaf18",
   "metadata": {
    "tags": []
   },
   "outputs": [],
   "source": [
    "#先使用clip中的process对image进行加载，然后用clip_model将imageencode成prefix\n",
    "\n",
    "def main(out_path, file_path, clip_model_type = \"ViT-B/32\"):\n",
    "    # clip_model_type = \"ViT-B/32\"\n",
    "    device = torch.device('cuda:0')\n",
    "    clip_model_name = clip_model_type.replace('/', '_')\n",
    "    out_train_path = os.path.join(out_path,f'oscar_split_{clip_model_name}_train.pkl')\n",
    "    out_test_path = os.path.join(out_path,f'oscar_split_{clip_model_name}_test.pkl')\n",
    "    clip_model, preprocess = clip.load(clip_model_type, device=device, jit=False)\n",
    "    filename,captions = [],[]\n",
    "    with open(os.path.join(file_path,'captions.txt'), 'r') as file:\n",
    "        lines = file.readlines()\n",
    "        for line in lines[1:]:\n",
    "            temp = line.split('.jpg,')\n",
    "            filename.append(temp[0] + '.jpg')\n",
    "            captions.append(temp[1][:-1])\n",
    "\n",
    "    print(\"%0d captions loaded from json \" % len(filename))\n",
    "    train_embeddings,train_captions = [],[]\n",
    "    total_size = len(filename)\n",
    "    train_size = int(total_size*0.9)\n",
    "    for i in tqdm(range(train_size)):\n",
    "        d = {'image_id':filename[i],'caption':captions[i]}\n",
    "        file = os.path.join(file_path,'images',filename[i])\n",
    "        image = io.imread(file)\n",
    "        image = preprocess(Image.fromarray(image)).unsqueeze(0).to(device)\n",
    "        with torch.no_grad():\n",
    "            prefix = clip_model.encode_image(image).to(device, dtype=torch.float32)\n",
    "            # prefix = clip_model.encode_image(image).cpu()\n",
    "        d[\"clip_embedding\"] = i\n",
    "        train_embeddings.append(prefix)\n",
    "        train_captions.append(d)\n",
    "    with open(out_train_path, 'wb') as f:\n",
    "        pickle.dump({\"clip_embedding\": torch.cat(train_embeddings, dim=0), \"captions\": train_captions}, f)\n",
    "\n",
    "    print('Done')\n",
    "    print(\"%0d embeddings saved \" % train_size)\n",
    "    return 0"
   ]
  },
  {
   "cell_type": "code",
   "execution_count": 5,
   "id": "fff65aba-05ce-4d4f-8a6e-9b5840f34eb9",
   "metadata": {
    "tags": []
   },
   "outputs": [
    {
     "name": "stdout",
     "output_type": "stream",
     "text": [
      "40455 captions loaded from json \n"
     ]
    },
    {
     "name": "stderr",
     "output_type": "stream",
     "text": [
      "100%|██████████| 36409/36409 [07:48<00:00, 77.63it/s]\n"
     ]
    },
    {
     "name": "stdout",
     "output_type": "stream",
     "text": [
      "Done\n",
      "36409 embeddings saved \n"
     ]
    },
    {
     "data": {
      "text/plain": [
       "0"
      ]
     },
     "execution_count": 5,
     "metadata": {},
     "output_type": "execute_result"
    }
   ],
   "source": [
    "main(clip_model_type = \"ViT-B/32\",out_path='/root/image caption/data/flicker8k',file_path='/root/image caption/flickr8k')"
   ]
  },
  {
   "cell_type": "code",
   "execution_count": 6,
   "id": "9a3afd17-05d0-46f5-854b-ad577629fe75",
   "metadata": {
    "tags": []
   },
   "outputs": [
    {
     "name": "stdout",
     "output_type": "stream",
     "text": [
      "40455 captions loaded from json \n"
     ]
    },
    {
     "name": "stderr",
     "output_type": "stream",
     "text": [
      "100%|██████████| 36409/36409 [08:50<00:00, 68.68it/s]\n"
     ]
    },
    {
     "name": "stdout",
     "output_type": "stream",
     "text": [
      "Done\n",
      "36409 embeddings saved \n"
     ]
    },
    {
     "data": {
      "text/plain": [
       "0"
      ]
     },
     "execution_count": 6,
     "metadata": {},
     "output_type": "execute_result"
    }
   ],
   "source": [
    "main(clip_model_type = 'RN50x4',out_path='/root/image caption/data/flicker8k',file_path='/root/image caption/flickr8k')"
   ]
  },
  {
   "cell_type": "code",
   "execution_count": 3,
   "id": "b4291ef0-5570-4978-bee8-1eb7da9b2a98",
   "metadata": {
    "tags": []
   },
   "outputs": [
    {
     "name": "stdout",
     "output_type": "stream",
     "text": [
      "158914 captions loaded from json \n"
     ]
    },
    {
     "name": "stderr",
     "output_type": "stream",
     "text": [
      "100%|██████████| 143022/143022 [32:55<00:00, 72.41it/s]\n"
     ]
    },
    {
     "name": "stdout",
     "output_type": "stream",
     "text": [
      "Done\n",
      "143022 embeddings saved \n"
     ]
    },
    {
     "data": {
      "text/plain": [
       "0"
      ]
     },
     "execution_count": 3,
     "metadata": {},
     "output_type": "execute_result"
    }
   ],
   "source": [
    "main(clip_model_type = \"ViT-B/32\",out_path='/root/image caption/data/flicker30k',file_path='/root/image caption/flicker30k')"
   ]
  },
  {
   "cell_type": "code",
   "execution_count": 4,
   "id": "6184f57f-7fdd-4e63-80f0-7a554cc69db8",
   "metadata": {
    "tags": []
   },
   "outputs": [
    {
     "name": "stdout",
     "output_type": "stream",
     "text": [
      "158914 captions loaded from json \n"
     ]
    },
    {
     "name": "stderr",
     "output_type": "stream",
     "text": [
      "100%|██████████| 143022/143022 [38:08<00:00, 62.49it/s]\n"
     ]
    },
    {
     "name": "stdout",
     "output_type": "stream",
     "text": [
      "Done\n",
      "143022 embeddings saved \n"
     ]
    },
    {
     "data": {
      "text/plain": [
       "0"
      ]
     },
     "execution_count": 4,
     "metadata": {},
     "output_type": "execute_result"
    }
   ],
   "source": [
    "main(clip_model_type = \"RN50x4\",out_path='/root/image caption/data/flicker30k',file_path='/root/image caption/flicker30k')"
   ]
  }
 ],
 "metadata": {
  "kernelspec": {
   "display_name": "Python 3 (ipykernel)",
   "language": "python",
   "name": "python3"
  },
  "language_info": {
   "codemirror_mode": {
    "name": "ipython",
    "version": 3
   },
   "file_extension": ".py",
   "mimetype": "text/x-python",
   "name": "python",
   "nbconvert_exporter": "python",
   "pygments_lexer": "ipython3",
   "version": "3.8.19"
  }
 },
 "nbformat": 4,
 "nbformat_minor": 5
}
